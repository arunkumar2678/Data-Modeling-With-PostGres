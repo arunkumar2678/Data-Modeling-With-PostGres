{
 "cells": [
  {
   "cell_type": "markdown",
   "metadata": {
    "editable": true
   },
   "source": [
    "# ETL Processes\n",
    "Use this notebook to develop the ETL process for each of your tables before completing the `etl.py` file to load the whole datasets."
   ]
  },
  {
   "cell_type": "code",
   "execution_count": 1,
   "metadata": {
    "editable": true
   },
   "outputs": [],
   "source": [
    "import os\n",
    "import glob\n",
    "import psycopg2\n",
    "import json\n",
    "import pandas as pd\n",
    "import numpy as np\n",
    "from sql_queries import *"
   ]
  },
  {
   "cell_type": "code",
   "execution_count": 2,
   "metadata": {
    "editable": true
   },
   "outputs": [],
   "source": [
    "conn = psycopg2.connect(\"host=127.0.0.1 dbname=sparkifydb user=student password=student\")\n",
    "cur = conn.cursor()"
   ]
  },
  {
   "cell_type": "code",
   "execution_count": 3,
   "metadata": {
    "editable": true
   },
   "outputs": [],
   "source": [
    "def get_files(filepath):\n",
    "   # print(filepath)\n",
    "    all_files = []\n",
    "    for root, dirs, files in os.walk(filepath):\n",
    "        print (root, dirs,files)\n",
    "        files = glob.glob(os.path.join(root,'*.json'))\n",
    "        for f in files :\n",
    "            print(f)\n",
    "            all_files.append(os.path.abspath(f))\n",
    "            return all_files\n",
    "        num_files = len(all_files)"
   ]
  },
  {
   "cell_type": "markdown",
   "metadata": {
    "editable": true
   },
   "source": [
    "# Process `song_data`\n",
    "In this first part, you'll perform ETL on the first dataset, `song_data`, to create the `songs` and `artists` dimensional tables.\n",
    "\n",
    "Let's perform ETL on a single song file and load a single record into each table to start.\n",
    "- Use the `get_files` function provided above to get a list of all song JSON files in `data/song_data`\n",
    "- Select the first song in this list\n",
    "- Read the song file and view the data"
   ]
  },
  {
   "cell_type": "code",
   "execution_count": 4,
   "metadata": {
    "editable": true
   },
   "outputs": [
    {
     "name": "stdout",
     "output_type": "stream",
     "text": [
      "/home/workspace/data/song_data ['A', '.ipynb_checkpoints'] []\n",
      "/home/workspace/data/song_data/A ['A', '.ipynb_checkpoints', 'B'] []\n",
      "/home/workspace/data/song_data/A/A ['A', '.ipynb_checkpoints', 'B', 'C'] []\n",
      "/home/workspace/data/song_data/A/A/A ['.ipynb_checkpoints'] ['TRAAAMQ128F1460CD3.json', 'TRAAAMO128F1481E7F.json', 'TRAAABD128F429CF47.json', 'TRAAARJ128F9320760.json', 'TRAAAVG12903CFA543.json', 'TRAAAVO128F93133D4.json', 'TRAAADZ128F9348C2E.json', 'TRAAAPK128E0786D96.json', 'TRAAAEF128F4273421.json', 'TRAAAAW128F429D538.json', 'TRAAAFD128F92F423A.json']\n",
      "/home/workspace/data/song_data/A/A/A/TRAAAMQ128F1460CD3.json\n"
     ]
    }
   ],
   "source": [
    "filepath = '/home/workspace/data/song_data'\n",
    "song_files = get_files(filepath)"
   ]
  },
  {
   "cell_type": "code",
   "execution_count": 5,
   "metadata": {
    "editable": true
   },
   "outputs": [
    {
     "name": "stdout",
     "output_type": "stream",
     "text": [
      "            artist_id  artist_latitude artist_location  artist_longitude  \\\n",
      "0  AR8IEZO1187B99055E              NaN                               NaN   \n",
      "\n",
      "    artist_name   duration  num_songs             song_id          title  year  \n",
      "0  Marc Shaiman  149.86404          1  SOINLJW12A8C13314C  City Slickers  2008  \n"
     ]
    }
   ],
   "source": [
    "song_files\n",
    "df=pd.read_json('/home/workspace/data/song_data/A/B/C/TRABCRU128F423F449.json', lines = True)\n",
    "print(df.head())"
   ]
  },
  {
   "cell_type": "markdown",
   "metadata": {
    "editable": true
   },
   "source": [
    "## #1: `songs` Table\n",
    "#### Extract Data for Songs Table\n",
    "- Select columns for song ID, title, artist ID, year, and duration\n",
    "- Use `df.values` to select just the values from the dataframe\n",
    "- Index to select the first (only) record in the dataframe\n",
    "- Convert the array to a list and set it to `song_data`"
   ]
  },
  {
   "cell_type": "code",
   "execution_count": 6,
   "metadata": {
    "editable": true
   },
   "outputs": [
    {
     "name": "stdout",
     "output_type": "stream",
     "text": [
      "('SOINLJW12A8C13314C', 'City Slickers', 'AR8IEZO1187B99055E', 2008, 149.86404)\n"
     ]
    }
   ],
   "source": [
    "selcolumns = df[['song_id', 'title', 'artist_id', 'year','duration']].values\n",
    "song_data=tuple(selcolumns.ravel().tolist())\n",
    "print(song_data)"
   ]
  },
  {
   "cell_type": "markdown",
   "metadata": {
    "editable": true
   },
   "source": [
    "#### Insert Record into Song Table\n",
    "Implement the `song_table_insert` query in `sql_queries.py` and run the cell below to insert a record for this song into the `songs` table. Remember to run `create_tables.py` before running the cell below to ensure you've created/resetted the `songs` table in the sparkify database."
   ]
  },
  {
   "cell_type": "code",
   "execution_count": 7,
   "metadata": {
    "editable": true
   },
   "outputs": [
    {
     "name": "stdout",
     "output_type": "stream",
     "text": [
      "Record inserted successfully\n",
      "('SOINLJW12A8C13314C', 'City Slickers', 'AR8IEZO1187B99055E', '2008', 149.86404)\n"
     ]
    }
   ],
   "source": [
    "from sql_queries import song_table_insert\n",
    "cur.execute(song_table_insert, song_data)\n",
    "print(\"Record inserted successfully\")\n",
    "conn.commit()\n",
    "\n",
    "try: \n",
    "    cur.execute (\"Select * from songs\")\n",
    "except psycopg2.Error as e: \n",
    "    print(\"Error: Issue selecting table\")\n",
    "    print (e)\n",
    "\n",
    "row = cur.fetchone()\n",
    "while row:\n",
    "    print(row)\n",
    "    row = cur.fetchone()\n",
    "\n"
   ]
  },
  {
   "cell_type": "markdown",
   "metadata": {
    "editable": true
   },
   "source": [
    "Run `test.ipynb` to see if you've successfully added a record to this table."
   ]
  },
  {
   "cell_type": "markdown",
   "metadata": {
    "editable": true
   },
   "source": [
    "## #2: `artists` Table\n",
    "#### Extract Data for Artists Table\n",
    "- Select columns for artist ID, name, location, latitude, and longitude\n",
    "- Use `df.values` to select just the values from the dataframe\n",
    "- Index to select the first (only) record in the dataframe\n",
    "- Convert the array to a list and set it to `artist_data`"
   ]
  },
  {
   "cell_type": "code",
   "execution_count": 8,
   "metadata": {
    "editable": true
   },
   "outputs": [],
   "source": [
    "from sql_queries import artist_table_insert\n",
    "artistColumns = df[['artist_id', 'artist_name', 'artist_location','artist_latitude', 'artist_longitude']].values\n",
    "artist_data = tuple(artistColumns.ravel().tolist())"
   ]
  },
  {
   "cell_type": "markdown",
   "metadata": {
    "editable": true
   },
   "source": [
    "#### Insert Record into Artist Table\n",
    "Implement the `artist_table_insert` query in `sql_queries.py` and run the cell below to insert a record for this song's artist into the `artists` table. Remember to run `create_tables.py` before running the cell below to ensure you've created/resetted the `artists` table in the sparkify database."
   ]
  },
  {
   "cell_type": "code",
   "execution_count": 9,
   "metadata": {
    "editable": true
   },
   "outputs": [
    {
     "name": "stdout",
     "output_type": "stream",
     "text": [
      "Record inserted successfully\n",
      "('AR8IEZO1187B99055E', 'Marc Shaiman', '', nan, nan)\n"
     ]
    }
   ],
   "source": [
    "cur.execute(artist_table_insert, artist_data)\n",
    "print(\"Record inserted successfully\")\n",
    "conn.commit()\n",
    "\n",
    "try: \n",
    "    cur.execute (\"Select * from artists\")\n",
    "except psycopg2.Error as e: \n",
    "    print(\"Error: Issue selecting table\")\n",
    "    print (e)\n",
    "\n",
    "row = cur.fetchone()\n",
    "while row:\n",
    "    print(row)\n",
    "    row = cur.fetchone()\n"
   ]
  },
  {
   "cell_type": "markdown",
   "metadata": {
    "editable": true
   },
   "source": [
    "Run `test.ipynb` to see if you've successfully added a record to this table."
   ]
  },
  {
   "cell_type": "markdown",
   "metadata": {
    "editable": true
   },
   "source": [
    "# Process `log_data`\n",
    "In this part, you'll perform ETL on the second dataset, `log_data`, to create the `time` and `users` dimensional tables, as well as the `songplays` fact table.\n",
    "\n",
    "Let's perform ETL on a single log file and load a single record into each table.\n",
    "- Use the `get_files` function provided above to get a list of all log JSON files in `data/log_data`\n",
    "- Select the first log file in this list\n",
    "- Read the log file and view the data"
   ]
  },
  {
   "cell_type": "raw",
   "metadata": {
    "editable": true
   },
   "source": [
    "log_files = get_files(filepath)\n",
    "print(log_files)"
   ]
  },
  {
   "cell_type": "code",
   "execution_count": 10,
   "metadata": {
    "editable": true
   },
   "outputs": [
    {
     "name": "stdout",
     "output_type": "stream",
     "text": [
      "artist           N.E.R.D. FEATURING MALICE\n",
      "auth                             Logged In\n",
      "firstName                           Jayden\n",
      "gender                                   M\n",
      "itemInSession                            0\n",
      "Name: 0, dtype: object\n"
     ]
    }
   ],
   "source": [
    "filepath = '/home/workspace/data/log_data/2018/11/'\n",
    "FirstFile = os.listdir(filepath)[0]\n",
    "df = pd.read_json('/home/workspace/data/log_data/2018/11/2018-11-02-events.json', lines = True)\n",
    "df.iloc[0].head()\n",
    "print(df.iloc[0].head())"
   ]
  },
  {
   "cell_type": "code",
   "execution_count": 11,
   "metadata": {
    "editable": true
   },
   "outputs": [
    {
     "data": {
      "text/html": [
       "<div>\n",
       "<style scoped>\n",
       "    .dataframe tbody tr th:only-of-type {\n",
       "        vertical-align: middle;\n",
       "    }\n",
       "\n",
       "    .dataframe tbody tr th {\n",
       "        vertical-align: top;\n",
       "    }\n",
       "\n",
       "    .dataframe thead th {\n",
       "        text-align: right;\n",
       "    }\n",
       "</style>\n",
       "<table border=\"1\" class=\"dataframe\">\n",
       "  <thead>\n",
       "    <tr style=\"text-align: right;\">\n",
       "      <th></th>\n",
       "      <th>artist</th>\n",
       "      <th>auth</th>\n",
       "      <th>firstName</th>\n",
       "      <th>gender</th>\n",
       "      <th>itemInSession</th>\n",
       "      <th>lastName</th>\n",
       "      <th>length</th>\n",
       "      <th>level</th>\n",
       "      <th>location</th>\n",
       "      <th>method</th>\n",
       "      <th>page</th>\n",
       "      <th>registration</th>\n",
       "      <th>sessionId</th>\n",
       "      <th>song</th>\n",
       "      <th>status</th>\n",
       "      <th>ts</th>\n",
       "      <th>userAgent</th>\n",
       "      <th>userId</th>\n",
       "    </tr>\n",
       "  </thead>\n",
       "  <tbody>\n",
       "    <tr>\n",
       "      <th>0</th>\n",
       "      <td>N.E.R.D. FEATURING MALICE</td>\n",
       "      <td>Logged In</td>\n",
       "      <td>Jayden</td>\n",
       "      <td>M</td>\n",
       "      <td>0</td>\n",
       "      <td>Fox</td>\n",
       "      <td>288.99220</td>\n",
       "      <td>free</td>\n",
       "      <td>New Orleans-Metairie, LA</td>\n",
       "      <td>PUT</td>\n",
       "      <td>NextSong</td>\n",
       "      <td>1541033612796</td>\n",
       "      <td>184</td>\n",
       "      <td>Am I High (Feat. Malice)</td>\n",
       "      <td>200</td>\n",
       "      <td>1541121934796</td>\n",
       "      <td>\"Mozilla/5.0 (Windows NT 6.3; WOW64) AppleWebK...</td>\n",
       "      <td>101</td>\n",
       "    </tr>\n",
       "    <tr>\n",
       "      <th>1</th>\n",
       "      <td>None</td>\n",
       "      <td>Logged In</td>\n",
       "      <td>Stefany</td>\n",
       "      <td>F</td>\n",
       "      <td>0</td>\n",
       "      <td>White</td>\n",
       "      <td>NaN</td>\n",
       "      <td>free</td>\n",
       "      <td>Lubbock, TX</td>\n",
       "      <td>GET</td>\n",
       "      <td>Home</td>\n",
       "      <td>1540708070796</td>\n",
       "      <td>82</td>\n",
       "      <td>None</td>\n",
       "      <td>200</td>\n",
       "      <td>1541122176796</td>\n",
       "      <td>\"Mozilla/5.0 (Macintosh; Intel Mac OS X 10_9_4...</td>\n",
       "      <td>83</td>\n",
       "    </tr>\n",
       "    <tr>\n",
       "      <th>2</th>\n",
       "      <td>Death Cab for Cutie</td>\n",
       "      <td>Logged In</td>\n",
       "      <td>Stefany</td>\n",
       "      <td>F</td>\n",
       "      <td>1</td>\n",
       "      <td>White</td>\n",
       "      <td>216.42404</td>\n",
       "      <td>free</td>\n",
       "      <td>Lubbock, TX</td>\n",
       "      <td>PUT</td>\n",
       "      <td>NextSong</td>\n",
       "      <td>1540708070796</td>\n",
       "      <td>82</td>\n",
       "      <td>A Lack Of Color (Album Version)</td>\n",
       "      <td>200</td>\n",
       "      <td>1541122241796</td>\n",
       "      <td>\"Mozilla/5.0 (Macintosh; Intel Mac OS X 10_9_4...</td>\n",
       "      <td>83</td>\n",
       "    </tr>\n",
       "    <tr>\n",
       "      <th>3</th>\n",
       "      <td>Tracy Gang Pussy</td>\n",
       "      <td>Logged In</td>\n",
       "      <td>Stefany</td>\n",
       "      <td>F</td>\n",
       "      <td>2</td>\n",
       "      <td>White</td>\n",
       "      <td>221.33506</td>\n",
       "      <td>free</td>\n",
       "      <td>Lubbock, TX</td>\n",
       "      <td>PUT</td>\n",
       "      <td>NextSong</td>\n",
       "      <td>1540708070796</td>\n",
       "      <td>82</td>\n",
       "      <td>I Have A Wish</td>\n",
       "      <td>200</td>\n",
       "      <td>1541122457796</td>\n",
       "      <td>\"Mozilla/5.0 (Macintosh; Intel Mac OS X 10_9_4...</td>\n",
       "      <td>83</td>\n",
       "    </tr>\n",
       "    <tr>\n",
       "      <th>4</th>\n",
       "      <td>Skillet</td>\n",
       "      <td>Logged In</td>\n",
       "      <td>Kevin</td>\n",
       "      <td>M</td>\n",
       "      <td>0</td>\n",
       "      <td>Arellano</td>\n",
       "      <td>178.02404</td>\n",
       "      <td>free</td>\n",
       "      <td>Harrisburg-Carlisle, PA</td>\n",
       "      <td>PUT</td>\n",
       "      <td>NextSong</td>\n",
       "      <td>1540006905796</td>\n",
       "      <td>153</td>\n",
       "      <td>Monster (Album Version)</td>\n",
       "      <td>200</td>\n",
       "      <td>1541126568796</td>\n",
       "      <td>\"Mozilla/5.0 (Macintosh; Intel Mac OS X 10_9_4...</td>\n",
       "      <td>66</td>\n",
       "    </tr>\n",
       "  </tbody>\n",
       "</table>\n",
       "</div>"
      ],
      "text/plain": [
       "                      artist       auth firstName gender  itemInSession  \\\n",
       "0  N.E.R.D. FEATURING MALICE  Logged In    Jayden      M              0   \n",
       "1                       None  Logged In   Stefany      F              0   \n",
       "2        Death Cab for Cutie  Logged In   Stefany      F              1   \n",
       "3           Tracy Gang Pussy  Logged In   Stefany      F              2   \n",
       "4                    Skillet  Logged In     Kevin      M              0   \n",
       "\n",
       "   lastName     length level                  location method      page  \\\n",
       "0       Fox  288.99220  free  New Orleans-Metairie, LA    PUT  NextSong   \n",
       "1     White        NaN  free               Lubbock, TX    GET      Home   \n",
       "2     White  216.42404  free               Lubbock, TX    PUT  NextSong   \n",
       "3     White  221.33506  free               Lubbock, TX    PUT  NextSong   \n",
       "4  Arellano  178.02404  free   Harrisburg-Carlisle, PA    PUT  NextSong   \n",
       "\n",
       "    registration  sessionId                             song  status  \\\n",
       "0  1541033612796        184         Am I High (Feat. Malice)     200   \n",
       "1  1540708070796         82                             None     200   \n",
       "2  1540708070796         82  A Lack Of Color (Album Version)     200   \n",
       "3  1540708070796         82                    I Have A Wish     200   \n",
       "4  1540006905796        153          Monster (Album Version)     200   \n",
       "\n",
       "              ts                                          userAgent  userId  \n",
       "0  1541121934796  \"Mozilla/5.0 (Windows NT 6.3; WOW64) AppleWebK...     101  \n",
       "1  1541122176796  \"Mozilla/5.0 (Macintosh; Intel Mac OS X 10_9_4...      83  \n",
       "2  1541122241796  \"Mozilla/5.0 (Macintosh; Intel Mac OS X 10_9_4...      83  \n",
       "3  1541122457796  \"Mozilla/5.0 (Macintosh; Intel Mac OS X 10_9_4...      83  \n",
       "4  1541126568796  \"Mozilla/5.0 (Macintosh; Intel Mac OS X 10_9_4...      66  "
      ]
     },
     "execution_count": 11,
     "metadata": {},
     "output_type": "execute_result"
    }
   ],
   "source": [
    "df = pd.read_json('/home/workspace/data/log_data/2018/11/2018-11-02-events.json', lines = True)\n",
    "df.head()"
   ]
  },
  {
   "cell_type": "markdown",
   "metadata": {
    "editable": true
   },
   "source": [
    "## #3: `time` Table\n",
    "#### Extract Data for Time Table\n",
    "- Filter records by `NextSong` action\n",
    "- Convert the `ts` timestamp column to datetime\n",
    "  - Hint: the current timestamp is in milliseconds\n",
    "- Extract the timestamp, hour, day, week of year, month, year, and weekday from the `ts` column and set `time_data` to a list containing these values in order\n",
    "  - Hint: use pandas' [`dt` attribute](https://pandas.pydata.org/pandas-docs/stable/reference/api/pandas.Series.dt.html) to access easily datetimelike properties.\n",
    "- Specify labels for these columns and set to `column_labels`\n",
    "- Create a dataframe, `time_df,` containing the time data for this file by combining `column_labels` and `time_data` into a dictionary and converting this into a dataframe"
   ]
  },
  {
   "cell_type": "code",
   "execution_count": 12,
   "metadata": {
    "editable": true
   },
   "outputs": [],
   "source": [
    "import pandas as pd\n",
    "import calendar\n",
    "import datetime\n",
    "import numpy as np\n",
    "from datetime import datetime\n",
    "df['date'] = pd.to_datetime(df['ts'].iloc[0])\n",
    "df['starttime'] = df['date'].dt.time\n",
    "df['hour'] = df['date'].dt.week\n",
    "df['day'] = df['date'].dt.day\n",
    "df['week'] = df['date'].dt.week\n",
    "df['month'] = df['date'].dt.month\n",
    "df['year'] = df['date'].dt.year\n",
    "df['weekday'] = df['date'].dt.week\n",
    "\n",
    "d = {'starttime':df['starttime'], 'hour':df['hour'], 'day':df['day'], 'week': df['week'], 'month': df['month'], 'year': df['year'], 'weekday': df['weekday'] }\n",
    "time_df = pd.DataFrame(data = d)"
   ]
  },
  {
   "cell_type": "code",
   "execution_count": 13,
   "metadata": {
    "editable": true
   },
   "outputs": [
    {
     "data": {
      "text/html": [
       "<div>\n",
       "<style scoped>\n",
       "    .dataframe tbody tr th:only-of-type {\n",
       "        vertical-align: middle;\n",
       "    }\n",
       "\n",
       "    .dataframe tbody tr th {\n",
       "        vertical-align: top;\n",
       "    }\n",
       "\n",
       "    .dataframe thead th {\n",
       "        text-align: right;\n",
       "    }\n",
       "</style>\n",
       "<table border=\"1\" class=\"dataframe\">\n",
       "  <thead>\n",
       "    <tr style=\"text-align: right;\">\n",
       "      <th></th>\n",
       "      <th>starttime</th>\n",
       "      <th>hour</th>\n",
       "      <th>day</th>\n",
       "      <th>week</th>\n",
       "      <th>month</th>\n",
       "      <th>year</th>\n",
       "      <th>weekday</th>\n",
       "    </tr>\n",
       "  </thead>\n",
       "  <tbody>\n",
       "    <tr>\n",
       "      <th>0</th>\n",
       "      <td>00:25:41.121934</td>\n",
       "      <td>1</td>\n",
       "      <td>1</td>\n",
       "      <td>1</td>\n",
       "      <td>1</td>\n",
       "      <td>1970</td>\n",
       "      <td>1</td>\n",
       "    </tr>\n",
       "    <tr>\n",
       "      <th>1</th>\n",
       "      <td>00:25:41.121934</td>\n",
       "      <td>1</td>\n",
       "      <td>1</td>\n",
       "      <td>1</td>\n",
       "      <td>1</td>\n",
       "      <td>1970</td>\n",
       "      <td>1</td>\n",
       "    </tr>\n",
       "    <tr>\n",
       "      <th>2</th>\n",
       "      <td>00:25:41.121934</td>\n",
       "      <td>1</td>\n",
       "      <td>1</td>\n",
       "      <td>1</td>\n",
       "      <td>1</td>\n",
       "      <td>1970</td>\n",
       "      <td>1</td>\n",
       "    </tr>\n",
       "    <tr>\n",
       "      <th>3</th>\n",
       "      <td>00:25:41.121934</td>\n",
       "      <td>1</td>\n",
       "      <td>1</td>\n",
       "      <td>1</td>\n",
       "      <td>1</td>\n",
       "      <td>1970</td>\n",
       "      <td>1</td>\n",
       "    </tr>\n",
       "    <tr>\n",
       "      <th>4</th>\n",
       "      <td>00:25:41.121934</td>\n",
       "      <td>1</td>\n",
       "      <td>1</td>\n",
       "      <td>1</td>\n",
       "      <td>1</td>\n",
       "      <td>1970</td>\n",
       "      <td>1</td>\n",
       "    </tr>\n",
       "  </tbody>\n",
       "</table>\n",
       "</div>"
      ],
      "text/plain": [
       "         starttime  hour  day  week  month  year  weekday\n",
       "0  00:25:41.121934     1    1     1      1  1970        1\n",
       "1  00:25:41.121934     1    1     1      1  1970        1\n",
       "2  00:25:41.121934     1    1     1      1  1970        1\n",
       "3  00:25:41.121934     1    1     1      1  1970        1\n",
       "4  00:25:41.121934     1    1     1      1  1970        1"
      ]
     },
     "execution_count": 13,
     "metadata": {},
     "output_type": "execute_result"
    }
   ],
   "source": [
    "time_df.head()"
   ]
  },
  {
   "cell_type": "markdown",
   "metadata": {
    "editable": true
   },
   "source": [
    "#### Insert Records into Time Table\n",
    "Implement the `time_table_insert` query in `sql_queries.py` and run the cell below to insert records for the timestamps in this log file into the `time` table. Remember to run `create_tables.py` before running the cell below to ensure you've created/resetted the `time` table in the sparkify database."
   ]
  },
  {
   "cell_type": "code",
   "execution_count": 14,
   "metadata": {
    "editable": true
   },
   "outputs": [
    {
     "name": "stdout",
     "output_type": "stream",
     "text": [
      "('00:25:41.121934', 1, 1, '1', 1, 1970, '1')\n",
      "('00:25:41.121934', 1, 1, '1', 1, 1970, '1')\n",
      "('00:25:41.121934', 1, 1, '1', 1, 1970, '1')\n",
      "('00:25:41.121934', 1, 1, '1', 1, 1970, '1')\n",
      "('00:25:41.121934', 1, 1, '1', 1, 1970, '1')\n",
      "('00:25:41.121934', 1, 1, '1', 1, 1970, '1')\n",
      "('00:25:41.121934', 1, 1, '1', 1, 1970, '1')\n",
      "('00:25:41.121934', 1, 1, '1', 1, 1970, '1')\n",
      "('00:25:41.121934', 1, 1, '1', 1, 1970, '1')\n",
      "('00:25:41.121934', 1, 1, '1', 1, 1970, '1')\n"
     ]
    }
   ],
   "source": [
    "for i, row in time_df.iterrows():\n",
    "    try:\n",
    "        cur.execute(time_table_insert, list(row))\n",
    "    except psycopg2.Error as e:\n",
    "        print(\"Error: Record not inserted\")\n",
    "\n",
    "try: \n",
    "    cur.execute (\"Select * from time fetch first 10 rows only\")\n",
    "except psycopg2.Error as e: \n",
    "    print(\"Error: Issue selecting table\")\n",
    "    print (e)\n",
    "row = cur.fetchone()\n",
    "while row:\n",
    "    print (row)\n",
    "    row = cur.fetchone()\n",
    "\n",
    "conn.commit()"
   ]
  },
  {
   "cell_type": "code",
   "execution_count": 15,
   "metadata": {
    "editable": true
   },
   "outputs": [],
   "source": [
    "#%debug magic"
   ]
  },
  {
   "cell_type": "markdown",
   "metadata": {
    "editable": true
   },
   "source": [
    "Run `test.ipynb` to see if you've successfully added records to this table."
   ]
  },
  {
   "cell_type": "markdown",
   "metadata": {
    "editable": true
   },
   "source": [
    "## #4: `users` Table\n",
    "#### Extract Data for Users Table\n",
    "\n",
    "- Select columns for user ID, first name, last name, gender and level and set to `user_df`"
   ]
  },
  {
   "cell_type": "code",
   "execution_count": 16,
   "metadata": {
    "editable": true
   },
   "outputs": [],
   "source": [
    "from sql_queries import user_table_insert\n",
    "seluserscolumns = df[['userId', 'firstName', 'lastName', 'gender', 'level']].values\n",
    "user_data=tuple(seluserscolumns.ravel().tolist())\n",
    "\n",
    "d = {'userId':df['userId'], 'firstName':df['firstName'], 'lastName':df['lastName'], 'gender': df['gender'], 'level': df['level']}\n",
    "user_df = pd.DataFrame(data = d)\n"
   ]
  },
  {
   "cell_type": "code",
   "execution_count": null,
   "metadata": {
    "editable": true
   },
   "outputs": [],
   "source": []
  },
  {
   "cell_type": "markdown",
   "metadata": {
    "editable": true
   },
   "source": [
    "#### Insert Records into Users Table\n",
    "Implement the `user_table_insert` query in `sql_queries.py` and run the cell below to insert records for the users in this log file into the `users` table. Remember to run `create_tables.py` before running the cell below to ensure you've created/resetted the `users` table in the sparkify database."
   ]
  },
  {
   "cell_type": "code",
   "execution_count": 17,
   "metadata": {
    "editable": true
   },
   "outputs": [],
   "source": [
    "for i, row in user_df.iterrows():\n",
    "    try:\n",
    "        cur.execute(user_table_insert, list(row))\n",
    "    except psycopg2.Error as e:\n",
    "        print(\"Error: Record not inserted\" + str(row))\n",
    "\n",
    "try: \n",
    "    cur.execute (\"Select * from users fetch first 10 rows only\")\n",
    "except psycopg2.Error as e: \n",
    "    print(\"Error: Issue selecting table\")\n",
    "    print (e)\n",
    "row = cur.fetchone()\n",
    "while row:\n",
    "    row = cur.fetchone()\n",
    "\n",
    "conn.commit()"
   ]
  },
  {
   "cell_type": "markdown",
   "metadata": {
    "editable": true
   },
   "source": [
    "Run `test.ipynb` to see if you've successfully added records to this table."
   ]
  },
  {
   "cell_type": "markdown",
   "metadata": {
    "editable": true
   },
   "source": [
    "## #5: `songplays` Table\n",
    "#### Extract Data and Songplays Table\n",
    "This one is a little more complicated since information from the songs table, artists table, and original log file are all needed for the `songplays` table. Since the log file does not specify an ID for either the song or the artist, you'll need to get the song ID and artist ID by querying the songs and artists tables to find matches based on song title, artist name, and song duration time.\n",
    "- Implement the `song_select` query in `sql_queries.py` to find the song ID and artist ID based on the title, artist name, and duration of a song.\n",
    "- Select the timestamp, user ID, level, song ID, artist ID, session ID, location, and user agent and set to `songplay_data`\n",
    "\n",
    "#### Insert Records into Songplays Table\n",
    "- Implement the `songplay_table_insert` query and run the cell below to insert records for the songplay actions in this log file into the `songplays` table. Remember to run `create_tables.py` before running the cell below to ensure you've created/resetted the `songplays` table in the sparkify database."
   ]
  },
  {
   "cell_type": "code",
   "execution_count": 18,
   "metadata": {
    "editable": true
   },
   "outputs": [
    {
     "ename": "IndexError",
     "evalue": "list index out of range",
     "output_type": "error",
     "traceback": [
      "\u001b[0;31m---------------------------------------------------------------------------\u001b[0m",
      "\u001b[0;31mIndexError\u001b[0m                                Traceback (most recent call last)",
      "\u001b[0;32m<ipython-input-18-0a7b7647337e>\u001b[0m in \u001b[0;36m<module>\u001b[0;34m()\u001b[0m\n\u001b[1;32m      9\u001b[0m \u001b[0;32mfor\u001b[0m \u001b[0mindex\u001b[0m\u001b[0;34m,\u001b[0m \u001b[0mrow\u001b[0m \u001b[0;32min\u001b[0m \u001b[0msongplay_df\u001b[0m\u001b[0;34m.\u001b[0m\u001b[0miterrows\u001b[0m\u001b[0;34m(\u001b[0m\u001b[0;34m)\u001b[0m\u001b[0;34m:\u001b[0m\u001b[0;34m\u001b[0m\u001b[0m\n\u001b[1;32m     10\u001b[0m     \u001b[0;32mtry\u001b[0m\u001b[0;34m:\u001b[0m\u001b[0;34m\u001b[0m\u001b[0m\n\u001b[0;32m---> 11\u001b[0;31m         \u001b[0mcur\u001b[0m\u001b[0;34m.\u001b[0m\u001b[0mexecute\u001b[0m\u001b[0;34m(\u001b[0m\u001b[0msongplay_table_insert\u001b[0m\u001b[0;34m,\u001b[0m \u001b[0mlist\u001b[0m\u001b[0;34m(\u001b[0m\u001b[0mrow\u001b[0m\u001b[0;34m)\u001b[0m\u001b[0;34m)\u001b[0m\u001b[0;34m\u001b[0m\u001b[0m\n\u001b[0m\u001b[1;32m     12\u001b[0m     \u001b[0;32mexcept\u001b[0m \u001b[0mpsycopg2\u001b[0m\u001b[0;34m.\u001b[0m\u001b[0mError\u001b[0m \u001b[0;32mas\u001b[0m \u001b[0me\u001b[0m\u001b[0;34m:\u001b[0m\u001b[0;34m\u001b[0m\u001b[0m\n\u001b[1;32m     13\u001b[0m         \u001b[0mprint\u001b[0m\u001b[0;34m(\u001b[0m\u001b[0;34m\"Error record not inserted\"\u001b[0m\u001b[0;34m)\u001b[0m\u001b[0;34m\u001b[0m\u001b[0m\n",
      "\u001b[0;31mIndexError\u001b[0m: list index out of range"
     ]
    }
   ],
   "source": [
    "from sql_queries import songplay_table_insert, song_select\n",
    "selsongplaycolumns = df[['starttime','userId', 'level', 'sessionId','location','userAgent']].values\n",
    "songplay_data=tuple(selsongplaycolumns.ravel().tolist())\n",
    "d = {'starttime':df['starttime'], 'userId':df['userId'], 'level':df['level'], 'sessionId': df['sessionId'], 'location': df['location'], 'userAgent': df['userAgent']}\n",
    "songplay_df = pd.DataFrame(data = d)\n",
    "\n",
    "#insert songplay record\n",
    "\n",
    "for index, row in songplay_df.iterrows():\n",
    "    try:\n",
    "        cur.execute(songplay_table_insert, list(row))\n",
    "    except psycopg2.Error as e:\n",
    "        print(\"Error record not inserted\")\n",
    "        print(e)\n",
    "\n",
    "\n",
    "try: \n",
    "    cur.execute (\"Select * from songplays fetch first 5 rows only\")\n",
    "except psycopg2.Error as e: \n",
    "    print(\"Error: Issue selecting table\")\n",
    "    print (e)\n",
    "row = cur.fetchone()\n",
    "while row:\n",
    "    print(row)\n",
    "    row = cur.fetchone()\n"
   ]
  },
  {
   "cell_type": "markdown",
   "metadata": {
    "editable": true
   },
   "source": [
    "Run `test.ipynb` to see if you've successfully added records to this table."
   ]
  },
  {
   "cell_type": "code",
   "execution_count": null,
   "metadata": {
    "editable": true
   },
   "outputs": [],
   "source": [
    "from sql_queries import song_select\n",
    "df=pd.read_json('/home/workspace/data/song_data/A/B/C/TRABCRU128F423F449.json', lines = True)\n",
    "selsong_artist_columns = df[['title', 'artist_name', 'duration']].values\n",
    "selsong_artist_data=tuple(selsong_artist_columns.ravel().tolist())\n",
    "d = {'title':df['title'], 'artist_name':df['artist_name'], 'duration':df['duration']}\n",
    "selsong_artist_df = pd.DataFrame(data = d)\n",
    "\n",
    "#song_select = \"Select a.song_id, b.artist_id from songs a join artists b on a.artist_id = b.artist_id  where a.title = %s and artist_name = %s fetch first 5 rows only\"# and duration = %s\"\n",
    "\n",
    "#get songid and artistid from song and artist tables\n",
    "\n",
    "for index, row in selsong_artist_df.iterrows():\n",
    "    try:\n",
    "        cur.execute(song_select, (list(row)))\n",
    "    except psycopg2.Error as e:\n",
    "        print(\"Error: Issue selecting table\")\n",
    "        print (e)\n",
    "\n",
    "        row = cur.fetchone()\n",
    "while row:\n",
    "    print(row)\n",
    "    row = cur.fetchone()\n",
    " \n",
    "    #(row.title, row.artist_name, row.duration))\n"
   ]
  },
  {
   "cell_type": "markdown",
   "metadata": {
    "editable": true
   },
   "source": [
    "# Close Connection to Sparkify Database"
   ]
  },
  {
   "cell_type": "code",
   "execution_count": null,
   "metadata": {
    "editable": true
   },
   "outputs": [],
   "source": [
    "conn.close()"
   ]
  },
  {
   "cell_type": "markdown",
   "metadata": {
    "editable": true
   },
   "source": [
    "# Implement `etl.py`\n",
    "Use what you've completed in this notebook to implement `etl.py`."
   ]
  }
 ],
 "metadata": {
  "kernelspec": {
   "display_name": "Python 3",
   "language": "python",
   "name": "python3"
  },
  "language_info": {
   "codemirror_mode": {
    "name": "ipython",
    "version": 3
   },
   "file_extension": ".py",
   "mimetype": "text/x-python",
   "name": "python",
   "nbconvert_exporter": "python",
   "pygments_lexer": "ipython3",
   "version": "3.6.3"
  }
 },
 "nbformat": 4,
 "nbformat_minor": 4
}
